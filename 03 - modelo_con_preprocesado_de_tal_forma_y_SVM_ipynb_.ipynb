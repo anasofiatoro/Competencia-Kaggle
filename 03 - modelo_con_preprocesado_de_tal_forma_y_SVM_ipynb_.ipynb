{
  "nbformat": 4,
  "nbformat_minor": 0,
  "metadata": {
    "colab": {
      "provenance": [],
      "authorship_tag": "ABX9TyPnZ8JJ4ef8+vsg1oWnr5lN",
      "include_colab_link": true
    },
    "kernelspec": {
      "name": "python3",
      "display_name": "Python 3"
    },
    "language_info": {
      "name": "python"
    }
  },
  "cells": [
    {
      "cell_type": "markdown",
      "metadata": {
        "id": "view-in-github",
        "colab_type": "text"
      },
      "source": [
        "<a href=\"https://colab.research.google.com/github/anasofiatoro/Competencia-Kaggle/blob/main/03%20-%20modelo_con_preprocesado_de_tal_forma_y_SVM_ipynb_.ipynb\" target=\"_parent\"><img src=\"https://colab.research.google.com/assets/colab-badge.svg\" alt=\"Open In Colab\"/></a>"
      ]
    },
    {
      "cell_type": "code",
      "source": [
        "# Importar las librerías necesarias\n",
        "import pandas as pd\n",
        "import numpy as np\n",
        "from sklearn.model_selection import train_test_split\n",
        "from sklearn.preprocessing import StandardScaler\n",
        "from sklearn.svm import SVC\n",
        "from sklearn.metrics import accuracy_score, classification_report, confusion_matrix\n",
        "import matplotlib.pyplot as plt\n",
        "import seaborn as sns\n",
        "!pip install opendatasets\n",
        "import opendatasets as od"
      ],
      "metadata": {
        "colab": {
          "base_uri": "https://localhost:8080/"
        },
        "id": "SncB_FpiXqUU",
        "outputId": "1e6b9c6b-adf1-4039-f873-ad915f452135"
      },
      "execution_count": null,
      "outputs": [
        {
          "output_type": "stream",
          "name": "stdout",
          "text": [
            "Requirement already satisfied: opendatasets in /usr/local/lib/python3.10/dist-packages (0.1.22)\n",
            "Requirement already satisfied: tqdm in /usr/local/lib/python3.10/dist-packages (from opendatasets) (4.66.6)\n",
            "Requirement already satisfied: kaggle in /usr/local/lib/python3.10/dist-packages (from opendatasets) (1.6.17)\n",
            "Requirement already satisfied: click in /usr/local/lib/python3.10/dist-packages (from opendatasets) (8.1.7)\n",
            "Requirement already satisfied: six>=1.10 in /usr/local/lib/python3.10/dist-packages (from kaggle->opendatasets) (1.16.0)\n",
            "Requirement already satisfied: certifi>=2023.7.22 in /usr/local/lib/python3.10/dist-packages (from kaggle->opendatasets) (2024.8.30)\n",
            "Requirement already satisfied: python-dateutil in /usr/local/lib/python3.10/dist-packages (from kaggle->opendatasets) (2.8.2)\n",
            "Requirement already satisfied: requests in /usr/local/lib/python3.10/dist-packages (from kaggle->opendatasets) (2.32.3)\n",
            "Requirement already satisfied: python-slugify in /usr/local/lib/python3.10/dist-packages (from kaggle->opendatasets) (8.0.4)\n",
            "Requirement already satisfied: urllib3 in /usr/local/lib/python3.10/dist-packages (from kaggle->opendatasets) (2.2.3)\n",
            "Requirement already satisfied: bleach in /usr/local/lib/python3.10/dist-packages (from kaggle->opendatasets) (6.2.0)\n",
            "Requirement already satisfied: webencodings in /usr/local/lib/python3.10/dist-packages (from bleach->kaggle->opendatasets) (0.5.1)\n",
            "Requirement already satisfied: text-unidecode>=1.3 in /usr/local/lib/python3.10/dist-packages (from python-slugify->kaggle->opendatasets) (1.3)\n",
            "Requirement already satisfied: charset-normalizer<4,>=2 in /usr/local/lib/python3.10/dist-packages (from requests->kaggle->opendatasets) (3.4.0)\n",
            "Requirement already satisfied: idna<4,>=2.5 in /usr/local/lib/python3.10/dist-packages (from requests->kaggle->opendatasets) (3.10)\n"
          ]
        }
      ]
    },
    {
      "cell_type": "code",
      "source": [
        "dataset_url = 'https://www.kaggle.com/competitions/udea-ai4eng-20242'\n",
        "od.download(dataset_url)"
      ],
      "metadata": {
        "colab": {
          "base_uri": "https://localhost:8080/"
        },
        "id": "hwsQiX_GXvIM",
        "outputId": "c2f9b744-e612-4a42-c716-e09c1912c753"
      },
      "execution_count": null,
      "outputs": [
        {
          "output_type": "stream",
          "name": "stdout",
          "text": [
            "Skipping, found downloaded files in \"./udea-ai4eng-20242\" (use force=True to force download)\n"
          ]
        }
      ]
    },
    {
      "cell_type": "code",
      "source": [
        "# Cambiar al directorio donde se descargó el dataset\n",
        "import os\n",
        "os.chdir('/content/udea-ai4eng-20242')\n",
        "print(os.listdir())\n",
        "\n",
        "# Cargar el conjunto de datos de entrenamiento\n",
        "df = pd.read_csv('train.csv')\n",
        "print(\"Primeras filas del dataset de entrenamiento:\")\n",
        "print(df.head())\n"
      ],
      "metadata": {
        "colab": {
          "base_uri": "https://localhost:8080/"
        },
        "id": "UDDoyLp1X1i1",
        "outputId": "707445c0-c560-438e-d8be-9547ceebbea2"
      },
      "execution_count": null,
      "outputs": [
        {
          "output_type": "stream",
          "name": "stdout",
          "text": [
            "['submission_example.csv', 'train.csv', 'test.csv', 'udea-ai4eng-20242']\n",
            "Primeras filas del dataset de entrenamiento:\n",
            "       ID  PERIODO         ESTU_PRGM_ACADEMICO ESTU_PRGM_DEPARTAMENTO  \\\n",
            "0  904256    20212                  ENFERMERIA                 BOGOTÁ   \n",
            "1  645256    20212                     DERECHO              ATLANTICO   \n",
            "2  308367    20203       MERCADEO Y PUBLICIDAD                 BOGOTÁ   \n",
            "3  470353    20195  ADMINISTRACION DE EMPRESAS              SANTANDER   \n",
            "4  989032    20212                  PSICOLOGIA              ANTIOQUIA   \n",
            "\n",
            "             ESTU_VALORMATRICULAUNIVERSIDAD ESTU_HORASSEMANATRABAJA  \\\n",
            "0  Entre 5.5 millones y menos de 7 millones       Menos de 10 horas   \n",
            "1  Entre 2.5 millones y menos de 4 millones                       0   \n",
            "2  Entre 2.5 millones y menos de 4 millones         Más de 30 horas   \n",
            "3  Entre 4 millones y menos de 5.5 millones                       0   \n",
            "4  Entre 2.5 millones y menos de 4 millones     Entre 21 y 30 horas   \n",
            "\n",
            "  FAMI_ESTRATOVIVIENDA FAMI_TIENEINTERNET                 FAMI_EDUCACIONPADRE  \\\n",
            "0            Estrato 3                 Si    Técnica o tecnológica incompleta   \n",
            "1            Estrato 3                 No      Técnica o tecnológica completa   \n",
            "2            Estrato 3                 Si  Secundaria (Bachillerato) completa   \n",
            "3            Estrato 4                 Si                             No sabe   \n",
            "4            Estrato 3                 Si                   Primaria completa   \n",
            "\n",
            "                  FAMI_EDUCACIONMADRE ESTU_PAGOMATRICULAPROPIO  \\\n",
            "0                           Postgrado                       No   \n",
            "1    Técnica o tecnológica incompleta                       No   \n",
            "2  Secundaria (Bachillerato) completa                       No   \n",
            "3  Secundaria (Bachillerato) completa                       No   \n",
            "4                   Primaria completa                       No   \n",
            "\n",
            "  RENDIMIENTO_GLOBAL  \n",
            "0         medio-alto  \n",
            "1               bajo  \n",
            "2               bajo  \n",
            "3               alto  \n",
            "4         medio-bajo  \n"
          ]
        }
      ]
    },
    {
      "cell_type": "code",
      "source": [
        "# Mapeamos los valores de la columna 'ESTU_VALORMATRICULAUNIVERSIDAD' a valores numéricos\n",
        "valormatricula_map = {\n",
        "    'Entre 500 mil y menos de 1 millón': 0.75,\n",
        "    'Entre 1 millón y menos de 2.5 millones': 1.75,\n",
        "    'Entre 2.5 millones y menos de 4 millones': 3.25,\n",
        "    'Entre 4 millones y menos de 5.5 millones': 4.75,\n",
        "    'Entre 5.5 millones y menos de 7 millones': 6.25\n",
        "}\n",
        "df['ESTU_VALORMATRICULAUNIVERSIDAD'] = df['ESTU_VALORMATRICULAUNIVERSIDAD'].map(valormatricula_map)"
      ],
      "metadata": {
        "id": "Nb2ij5NhX49L"
      },
      "execution_count": null,
      "outputs": []
    },
    {
      "cell_type": "code",
      "source": [
        "# Verificamos si hay valores nulos después de la conversión y los imputamos si existen\n",
        "numeric_columns = df.select_dtypes(include=['float64', 'int64']).columns\n",
        "df[numeric_columns] = df[numeric_columns].fillna(df[numeric_columns].median())\n",
        "\n",
        "# Convertimos el resto de las columnas categóricas en one-hot encoding\n",
        "df = pd.get_dummies(df, drop_first=True)"
      ],
      "metadata": {
        "id": "YHQKORJPX_aC"
      },
      "execution_count": null,
      "outputs": []
    },
    {
      "cell_type": "code",
      "source": [
        "# Suponiendo que 'RENDIMIENTO_GLOBAL' es la columna que queremos predecir\n",
        "X = df.drop('ESTU_VALORMATRICULAUNIVERSIDAD', axis=1)  # Características\n",
        "y = df['ESTU_VALORMATRICULAUNIVERSIDAD']  # Etiqueta\n",
        "\n",
        "#Dividir los datos en conjuntos de entrenamiento y prueba\n",
        "X_train, X_test, y_train, y_test = train_test_split(X, y, test_size=0.2, random_state=42)"
      ],
      "metadata": {
        "id": "sgCrxt6af6lX"
      },
      "execution_count": null,
      "outputs": []
    },
    {
      "cell_type": "code",
      "source": [
        "from sklearn.preprocessing import StandardScaler\n",
        "\n",
        "#Normalización de las características\n",
        "scaler = StandardScaler()\n",
        "X_train = scaler.fit_transform(X_train)\n",
        "X_test = scaler.transform(X_test)"
      ],
      "metadata": {
        "id": "v4g-NqhCgZUB"
      },
      "execution_count": null,
      "outputs": []
    },
    {
      "cell_type": "code",
      "source": [
        "#Crear y entrenar el modelo SVM\n",
        "\n",
        "# Crear un modelo SVM con kernel lineal\n",
        "model = SVC(kernel='linear')\n",
        "\n",
        "# Entrenar el modelo\n",
        "model.fit(X_train, y_train)"
      ],
      "metadata": {
        "colab": {
          "base_uri": "https://localhost:8080/",
          "height": 222
        },
        "id": "zI8VlNdJgc-O",
        "outputId": "92e5afd4-5306-4ba9-df3f-b856f3eafdec"
      },
      "execution_count": null,
      "outputs": [
        {
          "output_type": "error",
          "ename": "NameError",
          "evalue": "name 'SVC' is not defined",
          "traceback": [
            "\u001b[0;31m---------------------------------------------------------------------------\u001b[0m",
            "\u001b[0;31mNameError\u001b[0m                                 Traceback (most recent call last)",
            "\u001b[0;32m<ipython-input-1-516e20416491>\u001b[0m in \u001b[0;36m<cell line: 4>\u001b[0;34m()\u001b[0m\n\u001b[1;32m      2\u001b[0m \u001b[0;34m\u001b[0m\u001b[0m\n\u001b[1;32m      3\u001b[0m \u001b[0;31m# Crear un modelo SVM con kernel lineal\u001b[0m\u001b[0;34m\u001b[0m\u001b[0;34m\u001b[0m\u001b[0m\n\u001b[0;32m----> 4\u001b[0;31m \u001b[0mmodel\u001b[0m \u001b[0;34m=\u001b[0m \u001b[0mSVC\u001b[0m\u001b[0;34m(\u001b[0m\u001b[0mkernel\u001b[0m\u001b[0;34m=\u001b[0m\u001b[0;34m'linear'\u001b[0m\u001b[0;34m)\u001b[0m\u001b[0;34m\u001b[0m\u001b[0;34m\u001b[0m\u001b[0m\n\u001b[0m\u001b[1;32m      5\u001b[0m \u001b[0;34m\u001b[0m\u001b[0m\n\u001b[1;32m      6\u001b[0m \u001b[0;31m# Entrenar el modelo\u001b[0m\u001b[0;34m\u001b[0m\u001b[0;34m\u001b[0m\u001b[0m\n",
            "\u001b[0;31mNameError\u001b[0m: name 'SVC' is not defined"
          ]
        }
      ]
    }
  ]
}